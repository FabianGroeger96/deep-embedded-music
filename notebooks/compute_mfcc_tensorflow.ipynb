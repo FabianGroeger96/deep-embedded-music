{
 "cells": [
  {
   "cell_type": "markdown",
   "metadata": {},
   "source": [
    "# Compute MFCC using only Tensorflow 2.1"
   ]
  },
  {
   "cell_type": "code",
   "execution_count": 1,
   "metadata": {},
   "outputs": [
    {
     "name": "stdout",
     "output_type": "stream",
     "text": [
      "2.1.0\n"
     ]
    }
   ],
   "source": [
    "import tensorflow as tf\n",
    "print(tf.__version__)"
   ]
  },
  {
   "cell_type": "markdown",
   "metadata": {},
   "source": [
    "## Compute MFCC"
   ]
  },
  {
   "cell_type": "code",
   "execution_count": 55,
   "metadata": {},
   "outputs": [],
   "source": [
    "from tensorflow.python.ops import io_ops\n",
    "import numpy as np"
   ]
  },
  {
   "cell_type": "code",
   "execution_count": 56,
   "metadata": {},
   "outputs": [],
   "source": [
    "# Data Set\n",
    "candidates = []\n",
    "candidates.append({'file': '/tf/tests/test_environment/audio/DevNode1_ex1_1.wav', 'label': 'yes'})\n",
    "candidates.append({'file': '/tf/tests/test_environment/audio/DevNode1_ex11_220.wav', 'label': 'yes'})\n",
    "candidates.append({'file': '/tf/tests/test_environment/audio/DevNode1_ex43_1.wav', 'label': 'yes'})\n",
    "candidates.append({'file': '/tf/tests/test_environment/audio/DevNode1_ex69_3.wav', 'label': 'yes'})"
   ]
  },
  {
   "cell_type": "code",
   "execution_count": 57,
   "metadata": {},
   "outputs": [
    {
     "data": {
      "text/plain": [
       "{0: 'yes'}"
      ]
     },
     "execution_count": 57,
     "metadata": {},
     "output_type": "execute_result"
    }
   ],
   "source": [
    "# create label dict（word -> index）\n",
    "label_dict = {}\n",
    "for item in candidates:\n",
    "    val = item['label']\n",
    "    if not val in label_dict:\n",
    "        label_dict[val] = len(label_dict)\n",
    "\n",
    "# create inverse label dict（index -> word）\n",
    "inv_label_dict = {v: k for k, v in label_dict.items()}\n",
    "inv_label_dict"
   ]
  },
  {
   "cell_type": "code",
   "execution_count": 58,
   "metadata": {},
   "outputs": [],
   "source": [
    "# Load Audio File\n",
    "# INPUT : string\n",
    "# OUTPUT: (sample_size, )\n",
    "def load_data(filename):\n",
    "\n",
    "    wav_loader = io_ops.read_file(filename)\n",
    "    data, sr = tf.audio.decode_wav(wav_loader,\n",
    "                                   desired_channels=1,\n",
    "                                   desired_samples=16000)\n",
    "\n",
    "    # delete channel dimension\n",
    "    # (sampling_rate, 1) -> (sampling_rate,)\n",
    "    \n",
    "    data = tf.squeeze(data)\n",
    "\n",
    "    return data, sr"
   ]
  },
  {
   "cell_type": "code",
   "execution_count": 59,
   "metadata": {},
   "outputs": [],
   "source": [
    "# compute STFT\n",
    "# INPUT : (sample_size, )\n",
    "# OUTPUT: (frame_size, fft_size // 2 + 1)\n",
    "def get_stft_spectrogram(data, fft_size):\n",
    "    # Input: A Tensor of [batch_size, num_samples]\n",
    "    # mono PCM samples in the range [-1, 1]. \n",
    "    stfts = tf.signal.stft(data,\n",
    "                           frame_length=480,\n",
    "                           frame_step=160,\n",
    "                           fft_length=fft_size)\n",
    "\n",
    "    # determine the amplitude\n",
    "    spectrograms = tf.abs(stfts)\n",
    "\n",
    "    return spectrograms"
   ]
  },
  {
   "cell_type": "code",
   "execution_count": 60,
   "metadata": {},
   "outputs": [],
   "source": [
    "# compute mel-Frequency\n",
    "# INPUT : (frame_size, fft_size // 2 + 1)\n",
    "# OUTPUT: (frame_size, mel_bin_size)\n",
    "def get_mel(stfts, n_mel_bin):\n",
    "\n",
    "    # STFT-bin\n",
    "    # 257 (= FFT size / 2 + 1)\n",
    "    n_stft_bin = stfts.shape[-1]\n",
    "    \n",
    "    # linear_to_mel_weight_matrix shape: (257, 128)\n",
    "    # (FFT size / 2 + 1, num of mel bins)\n",
    "    linear_to_mel_weight_matrix = tf.signal.linear_to_mel_weight_matrix(\n",
    "        num_mel_bins=n_mel_bin,\n",
    "        num_spectrogram_bins=n_stft_bin,\n",
    "        sample_rate=16000,\n",
    "        lower_edge_hertz=0.0,\n",
    "        upper_edge_hertz=8000.0\n",
    "    )\n",
    "    \n",
    "    # mel_spectrograms shape: (1, 98, 128)\n",
    "    mel_spectrograms = tf.tensordot(\n",
    "        stfts,                        # (1, 98, 257) \n",
    "        linear_to_mel_weight_matrix,  # (257, 128)\n",
    "        1)\n",
    "    \n",
    "    # take the logarithm (add a small number to avoid log(0))\n",
    "    log_mel_spectrograms = tf.math.log(mel_spectrograms + 1e-6)\n",
    "\n",
    "    return log_mel_spectrograms"
   ]
  },
  {
   "cell_type": "code",
   "execution_count": 61,
   "metadata": {},
   "outputs": [],
   "source": [
    "# compute MFCC\n",
    "# INPUT : (frame_size, mel_bin_size)\n",
    "# OUTPUT: (frame_size, n_mfcc_bin)\n",
    "def get_mfcc(log_mel_spectrograms, n_mfcc_bin):\n",
    "\n",
    "    mfcc = tf.signal.mfccs_from_log_mel_spectrograms(log_mel_spectrograms)\n",
    "    mfcc_ = mfcc[..., :n_mfcc_bin]\n",
    "\n",
    "    return mfcc_"
   ]
  },
  {
   "cell_type": "code",
   "execution_count": 62,
   "metadata": {},
   "outputs": [],
   "source": [
    "# OUTPUT: (frame_size, n_mfcc_bin)\n",
    "def get_feature(audio_path, fft_size, n_mel_bin, n_mfcc_bin):\n",
    "    \n",
    "    # read the audio\n",
    "    audio_data, sr = load_data(audio_path)\n",
    "\n",
    "    # find the feature value (STFT)\n",
    "    stfts = get_stft_spectrogram(audio_data, fft_size)\n",
    "\n",
    "    # find features (logarithmic mel spectrogram)\n",
    "    log_mel_spectrograms = get_mel(stfts, n_mel_bin)\n",
    "\n",
    "    # finding feature values (MFCC)\n",
    "    mfcc = get_mfcc(log_mel_spectrograms, n_mfcc_bin)\n",
    "\n",
    "    return mfcc"
   ]
  },
  {
   "cell_type": "code",
   "execution_count": 63,
   "metadata": {},
   "outputs": [],
   "source": [
    "sample_count = len(candidates)\n",
    "n_frame = 98\n",
    "fft_size = 512\n",
    "n_mel_bin = 128\n",
    "n_mfcc_bin = 13\n",
    "\n",
    "fingerprint_size = n_frame * n_mfcc_bin    # frame_size * mfcc_bin_size\n",
    "\n",
    "# initialise\n",
    "data = np.zeros((sample_count, fingerprint_size))\n",
    "labels = np.zeros(sample_count)\n",
    "\n",
    "for idx, val in enumerate(candidates):\n",
    "\n",
    "    feature = get_feature(val['file'], fft_size, n_mel_bin, n_mfcc_bin)\n",
    "    data[idx, :] = tf.reshape(feature, [-1])  # flattens into 1-D\n",
    "    labels[idx] = label_dict[val['label']]\n",
    "\n",
    "data_ = tf.reshape(data, [sample_count, n_frame, n_mfcc_bin])"
   ]
  },
  {
   "cell_type": "code",
   "execution_count": 64,
   "metadata": {},
   "outputs": [
    {
     "name": "stdout",
     "output_type": "stream",
     "text": [
      "(4, 98, 13)\n",
      "(4,)\n"
     ]
    }
   ],
   "source": [
    "print(data_.shape)\n",
    "print(labels.shape)"
   ]
  },
  {
   "cell_type": "markdown",
   "metadata": {},
   "source": [
    "## Plots"
   ]
  },
  {
   "cell_type": "code",
   "execution_count": 23,
   "metadata": {},
   "outputs": [],
   "source": [
    "import librosa\n",
    "import matplotlib.pyplot as plt\n",
    "import librosa.display"
   ]
  },
  {
   "cell_type": "code",
   "execution_count": 24,
   "metadata": {},
   "outputs": [],
   "source": [
    "# 2 x 2\n",
    "num_row = 2\n",
    "num_col = 2"
   ]
  },
  {
   "cell_type": "code",
   "execution_count": 52,
   "metadata": {},
   "outputs": [],
   "source": [
    "def plot_feature(plot_sample_idx):\n",
    "\n",
    "    # swap dimensions (frame, mfcc_index) --> (mfcc_index, frame)\n",
    "    feature = tf.transpose(data_[plot_sample_idx], perm=[1, 0])\n",
    "\n",
    "    # excluding 0-th coefficient\n",
    "    feature = feature[1:,:]\n",
    "    feature_= feature.numpy()\n",
    "\n",
    "    plt.subplot(num_row, num_col, plot_sample_idx+1)\n",
    "    librosa.display.specshow(feature_,\n",
    "                             sr=16000,\n",
    "                             hop_length=160, \n",
    "                             x_axis='time',\n",
    "                             vmin=-20,\n",
    "                             vmax=20,\n",
    "                             cmap='jet')\n",
    "\n",
    "    plt.title(\"MFCC {}\".format(plot_sample_idx))\n",
    "    cbar = plt.colorbar(format='%+2.0f')\n",
    "    plt.ylabel('MFCC')\n",
    "    plt.tight_layout()"
   ]
  },
  {
   "cell_type": "code",
   "execution_count": 53,
   "metadata": {},
   "outputs": [
    {
     "data": {
      "image/png": "[encoded data removed]",
      "text/plain": [
       "<Figure size 432x288 with 8 Axes>"
      ]
     },
     "metadata": {
      "needs_background": "light"
     },
     "output_type": "display_data"
    }
   ],
   "source": [
    "plot_feature(0)\n",
    "plot_feature(1)\n",
    "plot_feature(2)\n",
    "plot_feature(3)\n",
    "\n",
    "plt.show()"
   ]
  },
  {
   "cell_type": "code",
   "execution_count": null,
   "metadata": {},
   "outputs": [],
   "source": []
  }
 ],
 "metadata": {
  "kernelspec": {
   "display_name": "Python 3",
   "language": "python",
   "name": "python3"
  },
  "language_info": {
   "codemirror_mode": {
    "name": "ipython",
    "version": 3
   },
   "file_extension": ".py",
   "mimetype": "text/x-python",
   "name": "python",
   "nbconvert_exporter": "python",
   "pygments_lexer": "ipython3",
   "version": "3.6.9"
  }
 },
 "nbformat": 4,
 "nbformat_minor": 4
}
