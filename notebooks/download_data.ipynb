{
 "cells": [
  {
   "cell_type": "markdown",
   "metadata": {},
   "source": [
    "# Download Data"
   ]
  },
  {
   "cell_type": "markdown",
   "metadata": {},
   "source": [
    "The purpose of this notebook is to download the nessecary datasets for the thesis into the data directory `../data`.\n",
    "1. DCASE2018 Task 5 Development Set\n",
    "2. DCASE2018 Task 5 Evaluation Set\n",
    "\n",
    "The datasets of the DCASE callenge were downloaded using their `dcase_util` pip package."
   ]
  },
  {
   "cell_type": "code",
   "execution_count": 1,
   "metadata": {},
   "outputs": [],
   "source": [
    "import os\n",
    "import dcase_util"
   ]
  },
  {
   "cell_type": "markdown",
   "metadata": {},
   "source": [
    "## 1. Define data path "
   ]
  },
  {
   "cell_type": "code",
   "execution_count": 2,
   "metadata": {},
   "outputs": [
    {
     "data": {
      "text/plain": [
       "'/Volumes/Magneto/Datasets/'"
      ]
     },
     "execution_count": 2,
     "metadata": {},
     "output_type": "execute_result"
    }
   ],
   "source": [
    "# current working directory\n",
    "#cwd = os.getcwd()\n",
    "#data_path = cwd + '/data/'\n",
    "\n",
    "# data path to external SSD\n",
    "data_path = '/Volumes/Magneto/Datasets/'\n",
    "data_path"
   ]
  },
  {
   "cell_type": "markdown",
   "metadata": {},
   "source": [
    "## 2. Find dataset to download"
   ]
  },
  {
   "cell_type": "code",
   "execution_count": 3,
   "metadata": {},
   "outputs": [
    {
     "data": {
      "text/html": [
       "<div class=\"row clearfix\" style=\"\"><div class=\"col-md-12\" style=\"padding:2px;font-size:100%;font-weight:bold\">Dataset list</div></div>\n",
       "<table class=\"table table-striped table-condensed\" style=\"font-size:110%;width:auto;margin-top:0em;margin-left:20px;\"><thead style=\"border-bottom: 0px solid transparent;\"><tr><th style=\"width:520px;border-bottom:2px solid #333;border-right:2px solid #333;text-align:left;\">Class name</th><th style=\"width:50px;border-bottom:2px solid #333;border-right:2px solid #333;text-align:left;\">Group</th><th style=\"width:100px;border-bottom:2px solid #333;border-right:2px solid #333;text-align:left;\">Remote</th><th style=\"width:100px;border-bottom:2px solid #333;border-right:2px solid #333;text-align:left;\">Local</th><th style=\"width:50px;border-bottom:2px solid #333;border-right:2px solid #333;text-align:left;\">Audio</th><th style=\"width:60px;border-bottom:2px solid #333;border-right:2px solid #333;text-align:left;\">Scenes</th><th style=\"width:60px;border-bottom:2px solid #333;border-right:2px solid #333;text-align:left;\">Events</th><th style=\"width:40px;border-bottom:2px solid #333;text-align:left;\">Tags</th></tr></thead><tbody><tr><td style=\"border-right:2px solid #333;text-align:left;\">DBR_Dataset</td><td style=\"border-right:2px solid #333;text-align:left;\">event</td><td style=\"border-right:2px solid #333;text-align:left;\">623.7 MB</td><td style=\"border-right:2px solid #333;text-align:left;\">0 bytes</td><td style=\"border-right:2px solid #333;text-align:left;\"></td><td style=\"border-right:2px solid #333;text-align:left;\"></td><td style=\"border-right:2px solid #333;text-align:left;\"></td><td style=\"text-align:left;\"></td></tr><tr><td style=\"border-right:2px solid #333;text-align:left;\">DCASE2013_Scenes_DevelopmentSet</td><td style=\"border-right:2px solid #333;text-align:left;\">scene</td><td style=\"border-right:2px solid #333;text-align:left;\">345 MB</td><td style=\"border-right:2px solid #333;text-align:left;\">0 bytes</td><td style=\"border-right:2px solid #333;text-align:left;\"></td><td style=\"border-right:2px solid #333;text-align:left;\"></td><td style=\"border-right:2px solid #333;text-align:left;\"></td><td style=\"text-align:left;\"></td></tr><tr><td style=\"border-right:2px solid #333;text-align:left;\">DCASE2013_Scenes_EvaluationSet</td><td style=\"border-right:2px solid #333;text-align:left;\">scene</td><td style=\"border-right:2px solid #333;text-align:left;\">354.8 MB</td><td style=\"border-right:2px solid #333;text-align:left;\">0 bytes</td><td style=\"border-right:2px solid #333;text-align:left;\"></td><td style=\"border-right:2px solid #333;text-align:left;\"></td><td style=\"border-right:2px solid #333;text-align:left;\"></td><td style=\"text-align:left;\"></td></tr><tr><td style=\"border-right:2px solid #333;text-align:left;\">DCASE2018_Task5_DevelopmentSet</td><td style=\"border-right:2px solid #333;text-align:left;\">scene</td><td style=\"border-right:2px solid #333;text-align:left;\">42.66 GB</td><td style=\"border-right:2px solid #333;text-align:left;\">0 bytes</td><td style=\"border-right:2px solid #333;text-align:left;\"></td><td style=\"border-right:2px solid #333;text-align:left;\"></td><td style=\"border-right:2px solid #333;text-align:left;\"></td><td style=\"text-align:left;\"></td></tr><tr><td style=\"border-right:2px solid #333;text-align:left;\">DCASE2018_Task5_EvaluationSet</td><td style=\"border-right:2px solid #333;text-align:left;\">scene</td><td style=\"border-right:2px solid #333;text-align:left;\">42.22 GB</td><td style=\"border-right:2px solid #333;text-align:left;\">0 bytes</td><td style=\"border-right:2px solid #333;text-align:left;\"></td><td style=\"border-right:2px solid #333;text-align:left;\"></td><td style=\"border-right:2px solid #333;text-align:left;\"></td><td style=\"text-align:left;\"></td></tr><tr><td style=\"border-right:2px solid #333;text-align:left;\">TAUUrbanAcousticScenes_2019_DevelopmentSet</td><td style=\"border-right:2px solid #333;text-align:left;\">scene</td><td style=\"border-right:2px solid #333;text-align:left;\">33.18 GB</td><td style=\"border-right:2px solid #333;text-align:left;\">0 bytes</td><td style=\"border-right:2px solid #333;text-align:left;\"></td><td style=\"border-right:2px solid #333;text-align:left;\"></td><td style=\"border-right:2px solid #333;text-align:left;\"></td><td style=\"text-align:left;\"></td></tr><tr><td style=\"border-right:2px solid #333;text-align:left;\">TAUUrbanAcousticScenes_2019_EvaluationSet</td><td style=\"border-right:2px solid #333;text-align:left;\">scene</td><td style=\"border-right:2px solid #333;text-align:left;\">16.63 GB</td><td style=\"border-right:2px solid #333;text-align:left;\">0 bytes</td><td style=\"border-right:2px solid #333;text-align:left;\"></td><td style=\"border-right:2px solid #333;text-align:left;\"></td><td style=\"border-right:2px solid #333;text-align:left;\"></td><td style=\"text-align:left;\"></td></tr><tr><td style=\"border-right:2px solid #333;text-align:left;\">TAUUrbanAcousticScenes_2019_LeaderboardSet</td><td style=\"border-right:2px solid #333;text-align:left;\">scene</td><td style=\"border-right:2px solid #333;text-align:left;\">2.772 GB</td><td style=\"border-right:2px solid #333;text-align:left;\">0 bytes</td><td style=\"border-right:2px solid #333;text-align:left;\"></td><td style=\"border-right:2px solid #333;text-align:left;\"></td><td style=\"border-right:2px solid #333;text-align:left;\"></td><td style=\"text-align:left;\"></td></tr><tr><td style=\"border-right:2px solid #333;text-align:left;\">TAUUrbanAcousticScenes_2019_Mobile_DevelopmentSet</td><td style=\"border-right:2px solid #333;text-align:left;\">scene</td><td style=\"border-right:2px solid #333;text-align:left;\">17.4 GB</td><td style=\"border-right:2px solid #333;text-align:left;\">0 bytes</td><td style=\"border-right:2px solid #333;text-align:left;\"></td><td style=\"border-right:2px solid #333;text-align:left;\"></td><td style=\"border-right:2px solid #333;text-align:left;\"></td><td style=\"text-align:left;\"></td></tr><tr><td style=\"border-right:2px solid #333;text-align:left;\">TAUUrbanAcousticScenes_2019_Mobile_EvaluationSet</td><td style=\"border-right:2px solid #333;text-align:left;\">scene</td><td style=\"border-right:2px solid #333;text-align:left;\">11.84 GB</td><td style=\"border-right:2px solid #333;text-align:left;\">0 bytes</td><td style=\"border-right:2px solid #333;text-align:left;\"></td><td style=\"border-right:2px solid #333;text-align:left;\"></td><td style=\"border-right:2px solid #333;text-align:left;\"></td><td style=\"text-align:left;\"></td></tr><tr><td style=\"border-right:2px solid #333;text-align:left;\">TAUUrbanAcousticScenes_2019_Mobile_LeaderboardSet</td><td style=\"border-right:2px solid #333;text-align:left;\">scene</td><td style=\"border-right:2px solid #333;text-align:left;\">1.263 GB</td><td style=\"border-right:2px solid #333;text-align:left;\">0 bytes</td><td style=\"border-right:2px solid #333;text-align:left;\"></td><td style=\"border-right:2px solid #333;text-align:left;\"></td><td style=\"border-right:2px solid #333;text-align:left;\"></td><td style=\"text-align:left;\"></td></tr><tr><td style=\"border-right:2px solid #333;text-align:left;\">TAUUrbanAcousticScenes_2019_Openset_DevelopmentSet</td><td style=\"border-right:2px solid #333;text-align:left;\">scene</td><td style=\"border-right:2px solid #333;text-align:left;\">16.62 GB</td><td style=\"border-right:2px solid #333;text-align:left;\">0 bytes</td><td style=\"border-right:2px solid #333;text-align:left;\"></td><td style=\"border-right:2px solid #333;text-align:left;\"></td><td style=\"border-right:2px solid #333;text-align:left;\"></td><td style=\"text-align:left;\"></td></tr><tr><td style=\"border-right:2px solid #333;text-align:left;\">TAUUrbanAcousticScenes_2019_Openset_EvaluationSet</td><td style=\"border-right:2px solid #333;text-align:left;\">scene</td><td style=\"border-right:2px solid #333;text-align:left;\">7.641 GB</td><td style=\"border-right:2px solid #333;text-align:left;\">0 bytes</td><td style=\"border-right:2px solid #333;text-align:left;\"></td><td style=\"border-right:2px solid #333;text-align:left;\"></td><td style=\"border-right:2px solid #333;text-align:left;\"></td><td style=\"text-align:left;\"></td></tr><tr><td style=\"border-right:2px solid #333;text-align:left;\">TAUUrbanAcousticScenes_2019_Openset_LeaderboardSet</td><td style=\"border-right:2px solid #333;text-align:left;\">scene</td><td style=\"border-right:2px solid #333;text-align:left;\">1.283 GB</td><td style=\"border-right:2px solid #333;text-align:left;\">0 bytes</td><td style=\"border-right:2px solid #333;text-align:left;\"></td><td style=\"border-right:2px solid #333;text-align:left;\"></td><td style=\"border-right:2px solid #333;text-align:left;\"></td><td style=\"text-align:left;\"></td></tr><tr><td style=\"border-right:2px solid #333;text-align:left;\">TAUUrbanAcousticScenes_2020_3Class_DevelopmentSet</td><td style=\"border-right:2px solid #333;text-align:left;\">scene</td><td style=\"border-right:2px solid #333;text-align:left;\">33.1 GB</td><td style=\"border-right:2px solid #333;text-align:left;\">0 bytes</td><td style=\"border-right:2px solid #333;text-align:left;\"></td><td style=\"border-right:2px solid #333;text-align:left;\"></td><td style=\"border-right:2px solid #333;text-align:left;\"></td><td style=\"text-align:left;\"></td></tr><tr><td style=\"border-right:2px solid #333;text-align:left;\">TAUUrbanAcousticScenes_2020_Mobile_DevelopmentSet</td><td style=\"border-right:2px solid #333;text-align:left;\">scene</td><td style=\"border-right:2px solid #333;text-align:left;\">25.49 GB</td><td style=\"border-right:2px solid #333;text-align:left;\">0 bytes</td><td style=\"border-right:2px solid #333;text-align:left;\"></td><td style=\"border-right:2px solid #333;text-align:left;\"></td><td style=\"border-right:2px solid #333;text-align:left;\"></td><td style=\"text-align:left;\"></td></tr><tr><td style=\"border-right:2px solid #333;text-align:left;\">TUTAcousticScenes_2016_DevelopmentSet</td><td style=\"border-right:2px solid #333;text-align:left;\">scene</td><td style=\"border-right:2px solid #333;text-align:left;\">7.473 GB</td><td style=\"border-right:2px solid #333;text-align:left;\">0 bytes</td><td style=\"border-right:2px solid #333;text-align:left;\"></td><td style=\"border-right:2px solid #333;text-align:left;\"></td><td style=\"border-right:2px solid #333;text-align:left;\"></td><td style=\"text-align:left;\"></td></tr><tr><td style=\"border-right:2px solid #333;text-align:left;\">TUTAcousticScenes_2016_EvaluationSet</td><td style=\"border-right:2px solid #333;text-align:left;\">scene</td><td style=\"border-right:2px solid #333;text-align:left;\">2.491 GB</td><td style=\"border-right:2px solid #333;text-align:left;\">0 bytes</td><td style=\"border-right:2px solid #333;text-align:left;\"></td><td style=\"border-right:2px solid #333;text-align:left;\"></td><td style=\"border-right:2px solid #333;text-align:left;\"></td><td style=\"text-align:left;\"></td></tr><tr><td style=\"border-right:2px solid #333;text-align:left;\">TUTAcousticScenes_2017_DevelopmentSet</td><td style=\"border-right:2px solid #333;text-align:left;\">scene</td><td style=\"border-right:2px solid #333;text-align:left;\">9.966 GB</td><td style=\"border-right:2px solid #333;text-align:left;\">0 bytes</td><td style=\"border-right:2px solid #333;text-align:left;\"></td><td style=\"border-right:2px solid #333;text-align:left;\"></td><td style=\"border-right:2px solid #333;text-align:left;\"></td><td style=\"text-align:left;\"></td></tr><tr><td style=\"border-right:2px solid #333;text-align:left;\">TUTAcousticScenes_2017_EvaluationSet</td><td style=\"border-right:2px solid #333;text-align:left;\">scene</td><td style=\"border-right:2px solid #333;text-align:left;\">3.352 GB</td><td style=\"border-right:2px solid #333;text-align:left;\">0 bytes</td><td style=\"border-right:2px solid #333;text-align:left;\"></td><td style=\"border-right:2px solid #333;text-align:left;\"></td><td style=\"border-right:2px solid #333;text-align:left;\"></td><td style=\"text-align:left;\"></td></tr><tr><td style=\"border-right:2px solid #333;text-align:left;\">TUTAcousticScenes_2017_FeaturesSet</td><td style=\"border-right:2px solid #333;text-align:left;\">scene</td><td style=\"border-right:2px solid #333;text-align:left;\">841.2 MB</td><td style=\"border-right:2px solid #333;text-align:left;\">0 bytes</td><td style=\"border-right:2px solid #333;text-align:left;\"></td><td style=\"border-right:2px solid #333;text-align:left;\"></td><td style=\"border-right:2px solid #333;text-align:left;\"></td><td style=\"text-align:left;\"></td></tr><tr><td style=\"border-right:2px solid #333;text-align:left;\">TUTUrbanAcousticScenes_2018_DevelopmentSet</td><td style=\"border-right:2px solid #333;text-align:left;\">scene</td><td style=\"border-right:2px solid #333;text-align:left;\">19.89 GB</td><td style=\"border-right:2px solid #333;text-align:left;\">0 bytes</td><td style=\"border-right:2px solid #333;text-align:left;\"></td><td style=\"border-right:2px solid #333;text-align:left;\"></td><td style=\"border-right:2px solid #333;text-align:left;\"></td><td style=\"text-align:left;\"></td></tr><tr><td style=\"border-right:2px solid #333;text-align:left;\">TUTUrbanAcousticScenes_2018_EvaluationSet</td><td style=\"border-right:2px solid #333;text-align:left;\">scene</td><td style=\"border-right:2px solid #333;text-align:left;\">8.296 GB</td><td style=\"border-right:2px solid #333;text-align:left;\">0 bytes</td><td style=\"border-right:2px solid #333;text-align:left;\"></td><td style=\"border-right:2px solid #333;text-align:left;\"></td><td style=\"border-right:2px solid #333;text-align:left;\"></td><td style=\"text-align:left;\"></td></tr><tr><td style=\"border-right:2px solid #333;text-align:left;\">TUTUrbanAcousticScenes_2018_LeaderboardSet</td><td style=\"border-right:2px solid #333;text-align:left;\">scene</td><td style=\"border-right:2px solid #333;text-align:left;\">2.769 GB</td><td style=\"border-right:2px solid #333;text-align:left;\">0 bytes</td><td style=\"border-right:2px solid #333;text-align:left;\"></td><td style=\"border-right:2px solid #333;text-align:left;\"></td><td style=\"border-right:2px solid #333;text-align:left;\"></td><td style=\"text-align:left;\"></td></tr><tr><td style=\"border-right:2px solid #333;text-align:left;\">TUTUrbanAcousticScenes_2018_Mobile_DevelopmentSet</td><td style=\"border-right:2px solid #333;text-align:left;\">scene</td><td style=\"border-right:2px solid #333;text-align:left;\">10.5 GB</td><td style=\"border-right:2px solid #333;text-align:left;\">0 bytes</td><td style=\"border-right:2px solid #333;text-align:left;\"></td><td style=\"border-right:2px solid #333;text-align:left;\"></td><td style=\"border-right:2px solid #333;text-align:left;\"></td><td style=\"text-align:left;\"></td></tr><tr><td style=\"border-right:2px solid #333;text-align:left;\">TUTUrbanAcousticScenes_2018_Mobile_EvaluationSet</td><td style=\"border-right:2px solid #333;text-align:left;\">scene</td><td style=\"border-right:2px solid #333;text-align:left;\">15.46 GB</td><td style=\"border-right:2px solid #333;text-align:left;\">0 bytes</td><td style=\"border-right:2px solid #333;text-align:left;\"></td><td style=\"border-right:2px solid #333;text-align:left;\"></td><td style=\"border-right:2px solid #333;text-align:left;\"></td><td style=\"text-align:left;\"></td></tr><tr><td style=\"border-right:2px solid #333;text-align:left;\">TUTUrbanAcousticScenes_2018_Mobile_LeaderboardSet</td><td style=\"border-right:2px solid #333;text-align:left;\">scene</td><td style=\"border-right:2px solid #333;text-align:left;\">2.359 GB</td><td style=\"border-right:2px solid #333;text-align:left;\">0 bytes</td><td style=\"border-right:2px solid #333;text-align:left;\"></td><td style=\"border-right:2px solid #333;text-align:left;\"></td><td style=\"border-right:2px solid #333;text-align:left;\"></td><td style=\"text-align:left;\"></td></tr><tr><td style=\"border-right:2px solid #333;text-align:left;\">DCASE2017_Task4tagging_DevelopmentSet</td><td style=\"border-right:2px solid #333;text-align:left;\">event</td><td style=\"border-right:2px solid #333;text-align:left;\">5.16 MB</td><td style=\"border-right:2px solid #333;text-align:left;\">0 bytes</td><td style=\"border-right:2px solid #333;text-align:left;\"></td><td style=\"border-right:2px solid #333;text-align:left;\"></td><td style=\"border-right:2px solid #333;text-align:left;\"></td><td style=\"text-align:left;\"></td></tr><tr><td style=\"border-right:2px solid #333;text-align:left;\">DCASE2017_Task4tagging_EvaluationSet</td><td style=\"border-right:2px solid #333;text-align:left;\">event</td><td style=\"border-right:2px solid #333;text-align:left;\">823.1 MB</td><td style=\"border-right:2px solid #333;text-align:left;\">0 bytes</td><td style=\"border-right:2px solid #333;text-align:left;\"></td><td style=\"border-right:2px solid #333;text-align:left;\"></td><td style=\"border-right:2px solid #333;text-align:left;\"></td><td style=\"text-align:left;\"></td></tr><tr><td style=\"border-right:2px solid #333;text-align:left;\">TUTRareSoundEvents_2017_DevelopmentSet</td><td style=\"border-right:2px solid #333;text-align:left;\">event</td><td style=\"border-right:2px solid #333;text-align:left;\">7.75 GB</td><td style=\"border-right:2px solid #333;text-align:left;\">0 bytes</td><td style=\"border-right:2px solid #333;text-align:left;\"></td><td style=\"border-right:2px solid #333;text-align:left;\"></td><td style=\"border-right:2px solid #333;text-align:left;\">3</td><td style=\"text-align:left;\"></td></tr><tr><td style=\"border-right:2px solid #333;text-align:left;\">TUTRareSoundEvents_2017_EvaluationSet</td><td style=\"border-right:2px solid #333;text-align:left;\">event</td><td style=\"border-right:2px solid #333;text-align:left;\">4.28 GB</td><td style=\"border-right:2px solid #333;text-align:left;\">0 bytes</td><td style=\"border-right:2px solid #333;text-align:left;\"></td><td style=\"border-right:2px solid #333;text-align:left;\"></td><td style=\"border-right:2px solid #333;text-align:left;\">3</td><td style=\"text-align:left;\"></td></tr><tr><td style=\"border-right:2px solid #333;text-align:left;\">TUTSoundEvents_2016_DevelopmentSet</td><td style=\"border-right:2px solid #333;text-align:left;\">event</td><td style=\"border-right:2px solid #333;text-align:left;\">967.2 MB</td><td style=\"border-right:2px solid #333;text-align:left;\">0 bytes</td><td style=\"border-right:2px solid #333;text-align:left;\"></td><td style=\"border-right:2px solid #333;text-align:left;\"></td><td style=\"border-right:2px solid #333;text-align:left;\"></td><td style=\"text-align:left;\"></td></tr><tr><td style=\"border-right:2px solid #333;text-align:left;\">TUTSoundEvents_2016_EvaluationSet</td><td style=\"border-right:2px solid #333;text-align:left;\">event</td><td style=\"border-right:2px solid #333;text-align:left;\">449.4 MB</td><td style=\"border-right:2px solid #333;text-align:left;\">0 bytes</td><td style=\"border-right:2px solid #333;text-align:left;\"></td><td style=\"border-right:2px solid #333;text-align:left;\"></td><td style=\"border-right:2px solid #333;text-align:left;\"></td><td style=\"text-align:left;\"></td></tr><tr><td style=\"border-right:2px solid #333;text-align:left;\">TUTSoundEvents_2017_DevelopmentSet</td><td style=\"border-right:2px solid #333;text-align:left;\">event</td><td style=\"border-right:2px solid #333;text-align:left;\">1.188 GB</td><td style=\"border-right:2px solid #333;text-align:left;\">0 bytes</td><td style=\"border-right:2px solid #333;text-align:left;\"></td><td style=\"border-right:2px solid #333;text-align:left;\"></td><td style=\"border-right:2px solid #333;text-align:left;\"></td><td style=\"text-align:left;\"></td></tr><tr><td style=\"border-right:2px solid #333;text-align:left;\">TUTSoundEvents_2017_EvaluationSet</td><td style=\"border-right:2px solid #333;text-align:left;\">event</td><td style=\"border-right:2px solid #333;text-align:left;\">370.2 MB</td><td style=\"border-right:2px solid #333;text-align:left;\">0 bytes</td><td style=\"border-right:2px solid #333;text-align:left;\"></td><td style=\"border-right:2px solid #333;text-align:left;\"></td><td style=\"border-right:2px solid #333;text-align:left;\"></td><td style=\"text-align:left;\"></td></tr><tr><td style=\"border-right:2px solid #333;text-align:left;\">TUT_SED_Synthetic_2016</td><td style=\"border-right:2px solid #333;text-align:left;\">event</td><td style=\"border-right:2px solid #333;text-align:left;\">4.566 GB</td><td style=\"border-right:2px solid #333;text-align:left;\">0 bytes</td><td style=\"border-right:2px solid #333;text-align:left;\"></td><td style=\"border-right:2px solid #333;text-align:left;\"></td><td style=\"border-right:2px solid #333;text-align:left;\"></td><td style=\"text-align:left;\"></td></tr><tr><td style=\"border-right:2px solid #333;text-align:left;\">CHiMEHome_DomesticAudioTag_DevelopmentSet</td><td style=\"border-right:2px solid #333;text-align:left;\">tag</td><td style=\"border-right:2px solid #333;text-align:left;\">3.877 GB</td><td style=\"border-right:2px solid #333;text-align:left;\">0 bytes</td><td style=\"border-right:2px solid #333;text-align:left;\"></td><td style=\"border-right:2px solid #333;text-align:left;\"></td><td style=\"border-right:2px solid #333;text-align:left;\"></td><td style=\"text-align:left;\"></td></tr><tr><td style=\"border-right:2px solid #333;text-align:left;\">CHiMEHome_DomesticAudioTag_EvaluationSet</td><td style=\"border-right:2px solid #333;text-align:left;\">tag</td><td style=\"border-right:2px solid #333;text-align:left;\">3.877 GB</td><td style=\"border-right:2px solid #333;text-align:left;\">0 bytes</td><td style=\"border-right:2px solid #333;text-align:left;\"></td><td style=\"border-right:2px solid #333;text-align:left;\"></td><td style=\"border-right:2px solid #333;text-align:left;\"></td><td style=\"text-align:left;\"></td></tr></tbody></table>"
      ],
      "text/plain": [
       "<IPython.core.display.HTML object>"
      ]
     },
     "metadata": {},
     "output_type": "display_data"
    }
   ],
   "source": [
    "dcase_util.datasets.dataset_list()"
   ]
  },
  {
   "cell_type": "code",
   "execution_count": 7,
   "metadata": {},
   "outputs": [
    {
     "data": {
      "application/vnd.jupyter.widget-view+json": {
       "model_id": "53eddfcf8e6948b2b18c7a4c66970127",
       "version_major": 2,
       "version_minor": 0
      },
      "text/plain": [
       "HBox(children=(FloatProgress(value=0.0, description='Download packages        ', max=25.0, style=ProgressStyle…"
      ]
     },
     "metadata": {},
     "output_type": "display_data"
    },
    {
     "data": {
      "application/vnd.jupyter.widget-view+json": {
       "model_id": "ba9510cb0a2b4a0fb59c38c9b6a647e0",
       "version_major": 2,
       "version_minor": 0
      },
      "text/plain": [
       "HBox(children=(FloatProgress(value=1.0, bar_style='info', description='DCASE2018-task5-dev.audio.1', max=1.0, …"
      ]
     },
     "metadata": {},
     "output_type": "display_data"
    },
    {
     "ename": "KeyboardInterrupt",
     "evalue": "",
     "output_type": "error",
     "traceback": [
      "\u001b[0;31m\u001b[0m",
      "\u001b[0;31mKeyboardInterrupt\u001b[0mTraceback (most recent call last)",
      "\u001b[0;32m<ipython-input-7-04bb58bbc0b3>\u001b[0m in \u001b[0;36m<module>\u001b[0;34m\u001b[0m\n\u001b[1;32m      3\u001b[0m     \u001b[0mincluded_content_types\u001b[0m\u001b[0;34m=\u001b[0m\u001b[0;34m[\u001b[0m\u001b[0;34m'all'\u001b[0m\u001b[0;34m]\u001b[0m\u001b[0;34m\u001b[0m\u001b[0;34m\u001b[0m\u001b[0m\n\u001b[1;32m      4\u001b[0m )\n\u001b[0;32m----> 5\u001b[0;31m \u001b[0mdataset_dev\u001b[0m\u001b[0;34m.\u001b[0m\u001b[0minitialize\u001b[0m\u001b[0;34m(\u001b[0m\u001b[0;34m)\u001b[0m\u001b[0;34m\u001b[0m\u001b[0;34m\u001b[0m\u001b[0m\n\u001b[0m\u001b[1;32m      6\u001b[0m \u001b[0mdataset_dev\u001b[0m\u001b[0;34m.\u001b[0m\u001b[0mshow\u001b[0m\u001b[0;34m(\u001b[0m\u001b[0;34m)\u001b[0m\u001b[0;34m\u001b[0m\u001b[0;34m\u001b[0m\u001b[0m\n",
      "\u001b[0;32m/usr/local/lib/python3.6/dist-packages/dcase_util/datasets/datasets.py\u001b[0m in \u001b[0;36minitialize\u001b[0;34m(self)\u001b[0m\n\u001b[1;32m    755\u001b[0m         \u001b[0;32mif\u001b[0m \u001b[0;32mnot\u001b[0m \u001b[0mself\u001b[0m\u001b[0;34m.\u001b[0m\u001b[0mcheck_filelist\u001b[0m\u001b[0;34m(\u001b[0m\u001b[0;34m)\u001b[0m\u001b[0;34m:\u001b[0m\u001b[0;34m\u001b[0m\u001b[0;34m\u001b[0m\u001b[0m\n\u001b[1;32m    756\u001b[0m             \u001b[0;31m# Download packages\u001b[0m\u001b[0;34m\u001b[0m\u001b[0;34m\u001b[0m\u001b[0;34m\u001b[0m\u001b[0m\n\u001b[0;32m--> 757\u001b[0;31m             \u001b[0mself\u001b[0m\u001b[0;34m.\u001b[0m\u001b[0mdownload_packages\u001b[0m\u001b[0;34m(\u001b[0m\u001b[0;34m)\u001b[0m\u001b[0;34m\u001b[0m\u001b[0;34m\u001b[0m\u001b[0m\n\u001b[0m\u001b[1;32m    758\u001b[0m \u001b[0;34m\u001b[0m\u001b[0m\n\u001b[1;32m    759\u001b[0m             \u001b[0;31m# Extract content from packages\u001b[0m\u001b[0;34m\u001b[0m\u001b[0;34m\u001b[0m\u001b[0;34m\u001b[0m\u001b[0m\n",
      "\u001b[0;32m/usr/local/lib/python3.6/dist-packages/dcase_util/datasets/datasets.py\u001b[0m in \u001b[0;36mdownload_packages\u001b[0;34m(self, **kwargs)\u001b[0m\n\u001b[1;32m   1204\u001b[0m                         \u001b[0mcontent_type\u001b[0m\u001b[0;34m=\u001b[0m\u001b[0mself\u001b[0m\u001b[0;34m.\u001b[0m\u001b[0mincluded_content_types\u001b[0m\u001b[0;34m\u001b[0m\u001b[0;34m\u001b[0m\u001b[0m\n\u001b[1;32m   1205\u001b[0m                 ):\n\u001b[0;32m-> 1206\u001b[0;31m                     \u001b[0mremote_file\u001b[0m\u001b[0;34m.\u001b[0m\u001b[0mdownload\u001b[0m\u001b[0;34m(\u001b[0m\u001b[0;34m)\u001b[0m\u001b[0;34m\u001b[0m\u001b[0;34m\u001b[0m\u001b[0m\n\u001b[0m\u001b[1;32m   1207\u001b[0m \u001b[0;34m\u001b[0m\u001b[0m\n\u001b[1;32m   1208\u001b[0m         \u001b[0;32mreturn\u001b[0m \u001b[0mself\u001b[0m\u001b[0;34m\u001b[0m\u001b[0;34m\u001b[0m\u001b[0m\n",
      "\u001b[0;32m/usr/local/lib/python3.6/dist-packages/dcase_util/files/remote.py\u001b[0m in \u001b[0;36mdownload\u001b[0;34m(self)\u001b[0m\n\u001b[1;32m    457\u001b[0m                             \u001b[0mfilename\u001b[0m\u001b[0;34m=\u001b[0m\u001b[0mtmp_file\u001b[0m\u001b[0;34m,\u001b[0m\u001b[0;34m\u001b[0m\u001b[0;34m\u001b[0m\u001b[0m\n\u001b[1;32m    458\u001b[0m                             \u001b[0mreporthook\u001b[0m\u001b[0;34m=\u001b[0m\u001b[0mprogress_hook\u001b[0m\u001b[0;34m(\u001b[0m\u001b[0mt\u001b[0m\u001b[0;34m)\u001b[0m\u001b[0;34m,\u001b[0m\u001b[0;34m\u001b[0m\u001b[0;34m\u001b[0m\u001b[0m\n\u001b[0;32m--> 459\u001b[0;31m                             \u001b[0mdata\u001b[0m\u001b[0;34m=\u001b[0m\u001b[0;32mNone\u001b[0m\u001b[0;34m\u001b[0m\u001b[0;34m\u001b[0m\u001b[0m\n\u001b[0m\u001b[1;32m    460\u001b[0m                         )\n\u001b[1;32m    461\u001b[0m                     \u001b[0;32mexcept\u001b[0m \u001b[0mIOError\u001b[0m\u001b[0;34m:\u001b[0m\u001b[0;34m\u001b[0m\u001b[0;34m\u001b[0m\u001b[0m\n",
      "\u001b[0;32m/usr/lib/python3.6/urllib/request.py\u001b[0m in \u001b[0;36murlretrieve\u001b[0;34m(url, filename, reporthook, data)\u001b[0m\n\u001b[1;32m    275\u001b[0m \u001b[0;34m\u001b[0m\u001b[0m\n\u001b[1;32m    276\u001b[0m             \u001b[0;32mwhile\u001b[0m \u001b[0;32mTrue\u001b[0m\u001b[0;34m:\u001b[0m\u001b[0;34m\u001b[0m\u001b[0;34m\u001b[0m\u001b[0m\n\u001b[0;32m--> 277\u001b[0;31m                 \u001b[0mblock\u001b[0m \u001b[0;34m=\u001b[0m \u001b[0mfp\u001b[0m\u001b[0;34m.\u001b[0m\u001b[0mread\u001b[0m\u001b[0;34m(\u001b[0m\u001b[0mbs\u001b[0m\u001b[0;34m)\u001b[0m\u001b[0;34m\u001b[0m\u001b[0;34m\u001b[0m\u001b[0m\n\u001b[0m\u001b[1;32m    278\u001b[0m                 \u001b[0;32mif\u001b[0m \u001b[0;32mnot\u001b[0m \u001b[0mblock\u001b[0m\u001b[0;34m:\u001b[0m\u001b[0;34m\u001b[0m\u001b[0;34m\u001b[0m\u001b[0m\n\u001b[1;32m    279\u001b[0m                     \u001b[0;32mbreak\u001b[0m\u001b[0;34m\u001b[0m\u001b[0;34m\u001b[0m\u001b[0m\n",
      "\u001b[0;32m/usr/lib/python3.6/http/client.py\u001b[0m in \u001b[0;36mread\u001b[0;34m(self, amt)\u001b[0m\n\u001b[1;32m    457\u001b[0m             \u001b[0;31m# Amount is given, implement using readinto\u001b[0m\u001b[0;34m\u001b[0m\u001b[0;34m\u001b[0m\u001b[0;34m\u001b[0m\u001b[0m\n\u001b[1;32m    458\u001b[0m             \u001b[0mb\u001b[0m \u001b[0;34m=\u001b[0m \u001b[0mbytearray\u001b[0m\u001b[0;34m(\u001b[0m\u001b[0mamt\u001b[0m\u001b[0;34m)\u001b[0m\u001b[0;34m\u001b[0m\u001b[0;34m\u001b[0m\u001b[0m\n\u001b[0;32m--> 459\u001b[0;31m             \u001b[0mn\u001b[0m \u001b[0;34m=\u001b[0m \u001b[0mself\u001b[0m\u001b[0;34m.\u001b[0m\u001b[0mreadinto\u001b[0m\u001b[0;34m(\u001b[0m\u001b[0mb\u001b[0m\u001b[0;34m)\u001b[0m\u001b[0;34m\u001b[0m\u001b[0;34m\u001b[0m\u001b[0m\n\u001b[0m\u001b[1;32m    460\u001b[0m             \u001b[0;32mreturn\u001b[0m \u001b[0mmemoryview\u001b[0m\u001b[0;34m(\u001b[0m\u001b[0mb\u001b[0m\u001b[0;34m)\u001b[0m\u001b[0;34m[\u001b[0m\u001b[0;34m:\u001b[0m\u001b[0mn\u001b[0m\u001b[0;34m]\u001b[0m\u001b[0;34m.\u001b[0m\u001b[0mtobytes\u001b[0m\u001b[0;34m(\u001b[0m\u001b[0;34m)\u001b[0m\u001b[0;34m\u001b[0m\u001b[0;34m\u001b[0m\u001b[0m\n\u001b[1;32m    461\u001b[0m         \u001b[0;32melse\u001b[0m\u001b[0;34m:\u001b[0m\u001b[0;34m\u001b[0m\u001b[0;34m\u001b[0m\u001b[0m\n",
      "\u001b[0;32m/usr/lib/python3.6/http/client.py\u001b[0m in \u001b[0;36mreadinto\u001b[0;34m(self, b)\u001b[0m\n\u001b[1;32m    501\u001b[0m         \u001b[0;31m# connection, and the user is reading more bytes than will be provided\u001b[0m\u001b[0;34m\u001b[0m\u001b[0;34m\u001b[0m\u001b[0;34m\u001b[0m\u001b[0m\n\u001b[1;32m    502\u001b[0m         \u001b[0;31m# (for example, reading in 1k chunks)\u001b[0m\u001b[0;34m\u001b[0m\u001b[0;34m\u001b[0m\u001b[0;34m\u001b[0m\u001b[0m\n\u001b[0;32m--> 503\u001b[0;31m         \u001b[0mn\u001b[0m \u001b[0;34m=\u001b[0m \u001b[0mself\u001b[0m\u001b[0;34m.\u001b[0m\u001b[0mfp\u001b[0m\u001b[0;34m.\u001b[0m\u001b[0mreadinto\u001b[0m\u001b[0;34m(\u001b[0m\u001b[0mb\u001b[0m\u001b[0;34m)\u001b[0m\u001b[0;34m\u001b[0m\u001b[0;34m\u001b[0m\u001b[0m\n\u001b[0m\u001b[1;32m    504\u001b[0m         \u001b[0;32mif\u001b[0m \u001b[0;32mnot\u001b[0m \u001b[0mn\u001b[0m \u001b[0;32mand\u001b[0m \u001b[0mb\u001b[0m\u001b[0;34m:\u001b[0m\u001b[0;34m\u001b[0m\u001b[0;34m\u001b[0m\u001b[0m\n\u001b[1;32m    505\u001b[0m             \u001b[0;31m# Ideally, we would raise IncompleteRead if the content-length\u001b[0m\u001b[0;34m\u001b[0m\u001b[0;34m\u001b[0m\u001b[0;34m\u001b[0m\u001b[0m\n",
      "\u001b[0;32m/usr/lib/python3.6/socket.py\u001b[0m in \u001b[0;36mreadinto\u001b[0;34m(self, b)\u001b[0m\n\u001b[1;32m    579\u001b[0m         \"\"\"\n\u001b[1;32m    580\u001b[0m         \u001b[0mself\u001b[0m\u001b[0;34m.\u001b[0m\u001b[0m_checkClosed\u001b[0m\u001b[0;34m(\u001b[0m\u001b[0;34m)\u001b[0m\u001b[0;34m\u001b[0m\u001b[0;34m\u001b[0m\u001b[0m\n\u001b[0;32m--> 581\u001b[0;31m         \u001b[0mself\u001b[0m\u001b[0;34m.\u001b[0m\u001b[0m_checkReadable\u001b[0m\u001b[0;34m(\u001b[0m\u001b[0;34m)\u001b[0m\u001b[0;34m\u001b[0m\u001b[0;34m\u001b[0m\u001b[0m\n\u001b[0m\u001b[1;32m    582\u001b[0m         \u001b[0;32mif\u001b[0m \u001b[0mself\u001b[0m\u001b[0;34m.\u001b[0m\u001b[0m_timeout_occurred\u001b[0m\u001b[0;34m:\u001b[0m\u001b[0;34m\u001b[0m\u001b[0;34m\u001b[0m\u001b[0m\n\u001b[1;32m    583\u001b[0m             \u001b[0;32mraise\u001b[0m \u001b[0mOSError\u001b[0m\u001b[0;34m(\u001b[0m\u001b[0;34m\"cannot read from timed out object\"\u001b[0m\u001b[0;34m)\u001b[0m\u001b[0;34m\u001b[0m\u001b[0;34m\u001b[0m\u001b[0m\n",
      "\u001b[0;32m/usr/lib/python3.6/socket.py\u001b[0m in \u001b[0;36mreadable\u001b[0;34m(self)\u001b[0m\n\u001b[1;32m    614\u001b[0m         \u001b[0;32mif\u001b[0m \u001b[0mself\u001b[0m\u001b[0;34m.\u001b[0m\u001b[0mclosed\u001b[0m\u001b[0;34m:\u001b[0m\u001b[0;34m\u001b[0m\u001b[0;34m\u001b[0m\u001b[0m\n\u001b[1;32m    615\u001b[0m             \u001b[0;32mraise\u001b[0m \u001b[0mValueError\u001b[0m\u001b[0;34m(\u001b[0m\u001b[0;34m\"I/O operation on closed socket.\"\u001b[0m\u001b[0;34m)\u001b[0m\u001b[0;34m\u001b[0m\u001b[0;34m\u001b[0m\u001b[0m\n\u001b[0;32m--> 616\u001b[0;31m         \u001b[0;32mreturn\u001b[0m \u001b[0mself\u001b[0m\u001b[0;34m.\u001b[0m\u001b[0m_reading\u001b[0m\u001b[0;34m\u001b[0m\u001b[0;34m\u001b[0m\u001b[0m\n\u001b[0m\u001b[1;32m    617\u001b[0m \u001b[0;34m\u001b[0m\u001b[0m\n\u001b[1;32m    618\u001b[0m     \u001b[0;32mdef\u001b[0m \u001b[0mwritable\u001b[0m\u001b[0;34m(\u001b[0m\u001b[0mself\u001b[0m\u001b[0;34m)\u001b[0m\u001b[0;34m:\u001b[0m\u001b[0;34m\u001b[0m\u001b[0;34m\u001b[0m\u001b[0m\n",
      "\u001b[0;31mKeyboardInterrupt\u001b[0m: "
     ]
    }
   ],
   "source": [
    "dataset_dev = dcase_util.datasets.DCASE2018_Task5_DevelopmentSet(\n",
    "    data_path=data_path,\n",
    "    included_content_types=['all']\n",
    ")\n",
    "dataset_dev.show()"
   ]
  },
  {
   "cell_type": "code",
   "execution_count": 8,
   "metadata": {},
   "outputs": [
    {
     "data": {
      "text/html": [
       "<div class=\"label label-primary\" style=\"margin-bottom:5px;margin-top:5px;display:inline-block;margin-left:0px;\">DictContainer</div>\n",
       "<div class=\"row row-no-gutters clearfix\" style=\"background-color: #F9F9F966;\"><div class=\"col-md-4 col-xs-6\" style=\"padding-left:0px;\">audio_source<span class=\"pull-right text-muted\" style=\"padding-right:5px;\">:</span></div><div class=\"col-md-8 col-xs-6\">Daily living activities in a domestic environment </div></div>\n",
       "<div class=\"row row-no-gutters clearfix\" style=\"background-color: #F1F1F166;\"><div class=\"col-md-4 col-xs-6\" style=\"padding-left:0px;\">audio_type<span class=\"pull-right text-muted\" style=\"padding-right:5px;\">:</span></div><div class=\"col-md-8 col-xs-6\">Natural </div></div>\n",
       "<div class=\"row row-no-gutters clearfix\" style=\"background-color: #F9F9F966;\"><div class=\"col-md-4 col-xs-6\" style=\"padding-left:0px;\">authors<span class=\"pull-right text-muted\" style=\"padding-right:5px;\">:</span></div><div class=\"col-md-8 col-xs-6\">Gert Dekkers and Peter Karsmakers </div></div>\n",
       "<div class=\"row row-no-gutters clearfix\" style=\"background-color: #F1F1F166;\"><div class=\"col-md-4 col-xs-6\" style=\"padding-left:0px;\">licence<span class=\"pull-right text-muted\" style=\"padding-right:5px;\">:</span></div><div class=\"col-md-8 col-xs-6\">free non-commercial </div></div>\n",
       "<div class=\"row row-no-gutters clearfix\" style=\"background-color: #F9F9F966;\"><div class=\"col-md-4 col-xs-6\" style=\"padding-left:0px;\">microphone_model<span class=\"pull-right text-muted\" style=\"padding-right:5px;\">:</span></div><div class=\"col-md-8 col-xs-6\">Sonion N8AC03 MEMS microphone </div></div>\n",
       "<div class=\"row row-no-gutters clearfix\" style=\"background-color: #F1F1F166;\"><div class=\"col-md-4 col-xs-6\" style=\"padding-left:0px;\">recording_device_model<span class=\"pull-right text-muted\" style=\"padding-right:5px;\">:</span></div><div class=\"col-md-8 col-xs-6\">Silicon Labs (EFM32WG980) microcontroller </div></div>\n",
       "<div class=\"row row-no-gutters clearfix\" style=\"background-color: #F9F9F966;\"><div class=\"col-md-4 col-xs-6\" style=\"padding-left:0px;\">title<span class=\"pull-right text-muted\" style=\"padding-right:5px;\">:</span></div><div class=\"col-md-8 col-xs-6\">Task 5, Monitoring of domestic activities based on multi-channel acoustics, evaluation set </div></div>\n",
       "<div class=\"row row-no-gutters clearfix\" style=\"background-color: #F1F1F166;\"><div class=\"col-md-4 col-xs-6\" style=\"padding-left:0px;\">url<span class=\"pull-right text-muted\" style=\"padding-right:5px;\">:</span></div><div class=\"col-md-8 col-xs-6\">None </div></div>\n"
      ],
      "text/plain": [
       "<IPython.core.display.HTML object>"
      ]
     },
     "metadata": {},
     "output_type": "display_data"
    },
    {
     "data": {
      "text/html": [
       "<div class=\"label label-primary\" style=\"margin-bottom:5px;margin-top:5px;display:inline-block;margin-left:0px;\">MetaDataContainer</div>\n",
       "<div class=\"row row-no-gutters clearfix\" style=\"background-color: #F9F9F966;\"><div class=\"col-md-4 col-xs-6\" style=\"padding-left:0px;\">Filename<span class=\"pull-right text-muted\" style=\"padding-right:5px;\">:</span></div><div class=\"col-md-8 col-xs-6\">/Volumes/Magneto/Datasets/DCASE18-Task5-evaluation/meta.txt </div></div>\n",
       "<div class=\"row row-no-gutters clearfix\" style=\"background-color: #F1F1F166;\"><div class=\"col-md-4 col-xs-6\" style=\"padding-left:0px;\">Items<span class=\"pull-right text-muted\" style=\"padding-right:5px;\">:</span></div><div class=\"col-md-8 col-xs-6\">0 </div></div>\n",
       "<div class=\"row clearfix\" style=\"\"><div class=\"col-md-12\" style=\"padding:2px;font-size:100%;font-weight:bold\">Unique</div></div>\n",
       "<div class=\"row row-no-gutters clearfix\" style=\"background-color: #F1F1F166;\"><div class=\"col-md-4 col-xs-6\" style=\"padding-left:20px;\">Files<span class=\"pull-right text-muted\" style=\"padding-right:5px;\">:</span></div><div class=\"col-md-8 col-xs-6\">0 </div></div>\n",
       "<div class=\"row row-no-gutters clearfix\" style=\"background-color: #F9F9F966;\"><div class=\"col-md-4 col-xs-6\" style=\"padding-left:20px;\">Scene labels<span class=\"pull-right text-muted\" style=\"padding-right:5px;\">:</span></div><div class=\"col-md-8 col-xs-6\">0 </div></div>\n",
       "<div class=\"row row-no-gutters clearfix\" style=\"background-color: #F1F1F166;\"><div class=\"col-md-4 col-xs-6\" style=\"padding-left:20px;\">Event labels<span class=\"pull-right text-muted\" style=\"padding-right:5px;\">:</span></div><div class=\"col-md-8 col-xs-6\">0 </div></div>\n",
       "<div class=\"row row-no-gutters clearfix\" style=\"background-color: #F9F9F966;\"><div class=\"col-md-4 col-xs-6\" style=\"padding-left:20px;\">Tags<span class=\"pull-right text-muted\" style=\"padding-right:5px;\">:</span></div><div class=\"col-md-8 col-xs-6\">0 </div></div>\n",
       "<div class=\"row row-no-gutters clearfix\" style=\"background-color: #F1F1F166;\"><div class=\"col-md-4 col-xs-6\" style=\"padding-left:20px;\">Identifiers<span class=\"pull-right text-muted\" style=\"padding-right:5px;\">:</span></div><div class=\"col-md-8 col-xs-6\">0 </div></div>\n",
       "<div class=\"row row-no-gutters clearfix\" style=\"background-color: #F9F9F966;\"><div class=\"col-md-4 col-xs-6\" style=\"padding-left:20px;\">Source labels<span class=\"pull-right text-muted\" style=\"padding-right:5px;\">:</span></div><div class=\"col-md-8 col-xs-6\">0 </div></div>\n",
       "\n"
      ],
      "text/plain": [
       "<IPython.core.display.HTML object>"
      ]
     },
     "metadata": {},
     "output_type": "display_data"
    }
   ],
   "source": [
    "dataset_eval = dcase_util.datasets.DCASE2018_Task5_EvaluationSet(\n",
    "    data_path=data_path,\n",
    "    included_content_types=['all']\n",
    ")\n",
    "dataset_eval.show()"
   ]
  },
  {
   "cell_type": "markdown",
   "metadata": {},
   "source": [
    "## 3. Download development dataset"
   ]
  },
  {
   "cell_type": "code",
   "execution_count": null,
   "metadata": {},
   "outputs": [],
   "source": [
    "# download the zip files\n",
    "dataset_dev.download_packages()"
   ]
  },
  {
   "cell_type": "code",
   "execution_count": 19,
   "metadata": {},
   "outputs": [
    {
     "data": {
      "application/vnd.jupyter.widget-view+json": {
       "model_id": "",
       "version_major": 2,
       "version_minor": 0
      },
      "text/plain": [
       "HBox(children=(FloatProgress(value=0.0, description='Extract packages         ', max=25.0, style=ProgressStyle…"
      ]
     },
     "metadata": {},
     "output_type": "display_data"
    },
    {
     "data": {
      "application/vnd.jupyter.widget-view+json": {
       "model_id": "",
       "version_major": 2,
       "version_minor": 0
      },
      "text/plain": [
       "HBox(children=(FloatProgress(value=0.0, description='Extract                  ', max=4.0, style=ProgressStyle(…"
      ]
     },
     "metadata": {},
     "output_type": "display_data"
    },
    {
     "data": {
      "application/vnd.jupyter.widget-view+json": {
       "model_id": "",
       "version_major": 2,
       "version_minor": 0
      },
      "text/plain": [
       "HBox(children=(FloatProgress(value=0.0, description='Extract                  ', max=15.0, style=ProgressStyle…"
      ]
     },
     "metadata": {},
     "output_type": "display_data"
    },
    {
     "data": {
      "application/vnd.jupyter.widget-view+json": {
       "model_id": "",
       "version_major": 2,
       "version_minor": 0
      },
      "text/plain": [
       "HBox(children=(FloatProgress(value=0.0, description='Extract                  ', max=3185.0, style=ProgressSty…"
      ]
     },
     "metadata": {},
     "output_type": "display_data"
    },
    {
     "data": {
      "application/vnd.jupyter.widget-view+json": {
       "model_id": "",
       "version_major": 2,
       "version_minor": 0
      },
      "text/plain": [
       "HBox(children=(FloatProgress(value=0.0, description='Extract                  ', max=3195.0, style=ProgressSty…"
      ]
     },
     "metadata": {},
     "output_type": "display_data"
    },
    {
     "data": {
      "application/vnd.jupyter.widget-view+json": {
       "model_id": "",
       "version_major": 2,
       "version_minor": 0
      },
      "text/plain": [
       "HBox(children=(FloatProgress(value=0.0, description='Extract                  ', max=3175.0, style=ProgressSty…"
      ]
     },
     "metadata": {},
     "output_type": "display_data"
    },
    {
     "data": {
      "application/vnd.jupyter.widget-view+json": {
       "model_id": "",
       "version_major": 2,
       "version_minor": 0
      },
      "text/plain": [
       "HBox(children=(FloatProgress(value=0.0, description='Extract                  ', max=3187.0, style=ProgressSty…"
      ]
     },
     "metadata": {},
     "output_type": "display_data"
    },
    {
     "data": {
      "application/vnd.jupyter.widget-view+json": {
       "model_id": "",
       "version_major": 2,
       "version_minor": 0
      },
      "text/plain": [
       "HBox(children=(FloatProgress(value=0.0, description='Extract                  ', max=3190.0, style=ProgressSty…"
      ]
     },
     "metadata": {},
     "output_type": "display_data"
    },
    {
     "data": {
      "application/vnd.jupyter.widget-view+json": {
       "model_id": "",
       "version_major": 2,
       "version_minor": 0
      },
      "text/plain": [
       "HBox(children=(FloatProgress(value=0.0, description='Extract                  ', max=3186.0, style=ProgressSty…"
      ]
     },
     "metadata": {},
     "output_type": "display_data"
    },
    {
     "data": {
      "application/vnd.jupyter.widget-view+json": {
       "model_id": "",
       "version_major": 2,
       "version_minor": 0
      },
      "text/plain": [
       "HBox(children=(FloatProgress(value=0.0, description='Extract                  ', max=3194.0, style=ProgressSty…"
      ]
     },
     "metadata": {},
     "output_type": "display_data"
    },
    {
     "data": {
      "application/vnd.jupyter.widget-view+json": {
       "model_id": "",
       "version_major": 2,
       "version_minor": 0
      },
      "text/plain": [
       "HBox(children=(FloatProgress(value=0.0, description='Extract                  ', max=3187.0, style=ProgressSty…"
      ]
     },
     "metadata": {},
     "output_type": "display_data"
    },
    {
     "data": {
      "application/vnd.jupyter.widget-view+json": {
       "model_id": "",
       "version_major": 2,
       "version_minor": 0
      },
      "text/plain": [
       "HBox(children=(FloatProgress(value=0.0, description='Extract                  ', max=3190.0, style=ProgressSty…"
      ]
     },
     "metadata": {},
     "output_type": "display_data"
    },
    {
     "data": {
      "application/vnd.jupyter.widget-view+json": {
       "model_id": "",
       "version_major": 2,
       "version_minor": 0
      },
      "text/plain": [
       "HBox(children=(FloatProgress(value=0.0, description='Extract                  ', max=3175.0, style=ProgressSty…"
      ]
     },
     "metadata": {},
     "output_type": "display_data"
    },
    {
     "data": {
      "application/vnd.jupyter.widget-view+json": {
       "model_id": "",
       "version_major": 2,
       "version_minor": 0
      },
      "text/plain": [
       "HBox(children=(FloatProgress(value=0.0, description='Extract                  ', max=3192.0, style=ProgressSty…"
      ]
     },
     "metadata": {},
     "output_type": "display_data"
    },
    {
     "data": {
      "application/vnd.jupyter.widget-view+json": {
       "model_id": "",
       "version_major": 2,
       "version_minor": 0
      },
      "text/plain": [
       "HBox(children=(FloatProgress(value=0.0, description='Extract                  ', max=3183.0, style=ProgressSty…"
      ]
     },
     "metadata": {},
     "output_type": "display_data"
    },
    {
     "data": {
      "application/vnd.jupyter.widget-view+json": {
       "model_id": "",
       "version_major": 2,
       "version_minor": 0
      },
      "text/plain": [
       "HBox(children=(FloatProgress(value=0.0, description='Extract                  ', max=3189.0, style=ProgressSty…"
      ]
     },
     "metadata": {},
     "output_type": "display_data"
    },
    {
     "data": {
      "application/vnd.jupyter.widget-view+json": {
       "model_id": "",
       "version_major": 2,
       "version_minor": 0
      },
      "text/plain": [
       "HBox(children=(FloatProgress(value=0.0, description='Extract                  ', max=3196.0, style=ProgressSty…"
      ]
     },
     "metadata": {},
     "output_type": "display_data"
    },
    {
     "data": {
      "application/vnd.jupyter.widget-view+json": {
       "model_id": "",
       "version_major": 2,
       "version_minor": 0
      },
      "text/plain": [
       "HBox(children=(FloatProgress(value=0.0, description='Extract                  ', max=3189.0, style=ProgressSty…"
      ]
     },
     "metadata": {},
     "output_type": "display_data"
    },
    {
     "data": {
      "application/vnd.jupyter.widget-view+json": {
       "model_id": "",
       "version_major": 2,
       "version_minor": 0
      },
      "text/plain": [
       "HBox(children=(FloatProgress(value=0.0, description='Extract                  ', max=3191.0, style=ProgressSty…"
      ]
     },
     "metadata": {},
     "output_type": "display_data"
    },
    {
     "data": {
      "application/vnd.jupyter.widget-view+json": {
       "model_id": "",
       "version_major": 2,
       "version_minor": 0
      },
      "text/plain": [
       "HBox(children=(FloatProgress(value=0.0, description='Extract                  ', max=3181.0, style=ProgressSty…"
      ]
     },
     "metadata": {},
     "output_type": "display_data"
    },
    {
     "data": {
      "application/vnd.jupyter.widget-view+json": {
       "model_id": "",
       "version_major": 2,
       "version_minor": 0
      },
      "text/plain": [
       "HBox(children=(FloatProgress(value=0.0, description='Extract                  ', max=3194.0, style=ProgressSty…"
      ]
     },
     "metadata": {},
     "output_type": "display_data"
    },
    {
     "data": {
      "application/vnd.jupyter.widget-view+json": {
       "model_id": "",
       "version_major": 2,
       "version_minor": 0
      },
      "text/plain": [
       "HBox(children=(FloatProgress(value=0.0, description='Extract                  ', max=3197.0, style=ProgressSty…"
      ]
     },
     "metadata": {},
     "output_type": "display_data"
    },
    {
     "data": {
      "application/vnd.jupyter.widget-view+json": {
       "model_id": "",
       "version_major": 2,
       "version_minor": 0
      },
      "text/plain": [
       "HBox(children=(FloatProgress(value=0.0, description='Extract                  ', max=3177.0, style=ProgressSty…"
      ]
     },
     "metadata": {},
     "output_type": "display_data"
    },
    {
     "data": {
      "application/vnd.jupyter.widget-view+json": {
       "model_id": "",
       "version_major": 2,
       "version_minor": 0
      },
      "text/plain": [
       "HBox(children=(FloatProgress(value=0.0, description='Extract                  ', max=3198.0, style=ProgressSty…"
      ]
     },
     "metadata": {},
     "output_type": "display_data"
    },
    {
     "data": {
      "application/vnd.jupyter.widget-view+json": {
       "model_id": "",
       "version_major": 2,
       "version_minor": 0
      },
      "text/plain": [
       "HBox(children=(FloatProgress(value=0.0, description='Extract                  ', max=3185.0, style=ProgressSty…"
      ]
     },
     "metadata": {},
     "output_type": "display_data"
    },
    {
     "data": {
      "application/vnd.jupyter.widget-view+json": {
       "model_id": "",
       "version_major": 2,
       "version_minor": 0
      },
      "text/plain": [
       "HBox(children=(FloatProgress(value=0.0, description='Extract                  ', max=2850.0, style=ProgressSty…"
      ]
     },
     "metadata": {},
     "output_type": "display_data"
    },
    {
     "name": "stdout",
     "output_type": "stream",
     "text": []
    },
    {
     "data": {
      "text/plain": [
       "<dcase_util.datasets.dcase2018.DCASE2018_Task5_DevelopmentSet at 0x7f19710e6cf8>"
      ]
     },
     "execution_count": 19,
     "metadata": {},
     "output_type": "execute_result"
    }
   ],
   "source": [
    "# extract the zip files\n",
    "dataset_dev.extract_packages()"
   ]
  },
  {
   "cell_type": "markdown",
   "metadata": {},
   "source": [
    "## 4. Download evaluation dataset"
   ]
  },
  {
   "cell_type": "code",
   "execution_count": 5,
   "metadata": {},
   "outputs": [
    {
     "data": {
      "application/vnd.jupyter.widget-view+json": {
       "model_id": "a24331011ea84efda6d404287dd3fc3e",
       "version_major": 2,
       "version_minor": 0
      },
      "text/plain": [
       "HBox(children=(FloatProgress(value=0.0, description='Download packages        ', max=25.0, style=ProgressStyle…"
      ]
     },
     "metadata": {},
     "output_type": "display_data"
    },
    {
     "data": {
      "application/vnd.jupyter.widget-view+json": {
       "model_id": "",
       "version_major": 2,
       "version_minor": 0
      },
      "text/plain": [
       "HBox(children=(FloatProgress(value=1.0, bar_style='info', description=' DCASE2018-task5-eval.doc', max=1.0, st…"
      ]
     },
     "metadata": {},
     "output_type": "display_data"
    },
    {
     "name": "stderr",
     "output_type": "stream",
     "text": [
      "[E] RemoteFile: Download failed [https://zenodo.org/record/1964758/files/DCASE2018-task5-eval.doc.zip] [md5 mismatch] \t(remote.py:484)\n",
      "NoneType: None\n",
      "[E] RemoteFile: Download failed [https://zenodo.org/record/1964758/files/DCASE2018-task5-eval.doc.zip] [None: None] \t(remote.py:498)\n",
      "Traceback (most recent call last):\n",
      "  File \"/usr/local/lib/python3.6/dist-packages/dcase_util/files/remote.py\", line 485, in download\n",
      "    raise IOError(message)\n",
      "OSError: RemoteFile: Download failed [https://zenodo.org/record/1964758/files/DCASE2018-task5-eval.doc.zip] [md5 mismatch]\n"
     ]
    },
    {
     "ename": "OSError",
     "evalue": "RemoteFile: Download failed [https://zenodo.org/record/1964758/files/DCASE2018-task5-eval.doc.zip] [md5 mismatch]",
     "output_type": "error",
     "traceback": [
      "\u001b[0;31m\u001b[0m",
      "\u001b[0;31mOSError\u001b[0mTraceback (most recent call last)",
      "\u001b[0;32m<ipython-input-5-c913e9aed055>\u001b[0m in \u001b[0;36m<module>\u001b[0;34m\u001b[0m\n\u001b[1;32m      1\u001b[0m \u001b[0;31m# download the zip files\u001b[0m\u001b[0;34m\u001b[0m\u001b[0;34m\u001b[0m\u001b[0;34m\u001b[0m\u001b[0m\n\u001b[0;32m----> 2\u001b[0;31m \u001b[0mdataset_eval\u001b[0m\u001b[0;34m.\u001b[0m\u001b[0mdownload_packages\u001b[0m\u001b[0;34m(\u001b[0m\u001b[0;34m)\u001b[0m\u001b[0;34m\u001b[0m\u001b[0;34m\u001b[0m\u001b[0m\n\u001b[0m",
      "\u001b[0;32m/usr/local/lib/python3.6/dist-packages/dcase_util/datasets/datasets.py\u001b[0m in \u001b[0;36mdownload_packages\u001b[0;34m(self, **kwargs)\u001b[0m\n\u001b[1;32m   1204\u001b[0m                         \u001b[0mcontent_type\u001b[0m\u001b[0;34m=\u001b[0m\u001b[0mself\u001b[0m\u001b[0;34m.\u001b[0m\u001b[0mincluded_content_types\u001b[0m\u001b[0;34m\u001b[0m\u001b[0;34m\u001b[0m\u001b[0m\n\u001b[1;32m   1205\u001b[0m                 ):\n\u001b[0;32m-> 1206\u001b[0;31m                     \u001b[0mremote_file\u001b[0m\u001b[0;34m.\u001b[0m\u001b[0mdownload\u001b[0m\u001b[0;34m(\u001b[0m\u001b[0;34m)\u001b[0m\u001b[0;34m\u001b[0m\u001b[0;34m\u001b[0m\u001b[0m\n\u001b[0m\u001b[1;32m   1207\u001b[0m \u001b[0;34m\u001b[0m\u001b[0m\n\u001b[1;32m   1208\u001b[0m         \u001b[0;32mreturn\u001b[0m \u001b[0mself\u001b[0m\u001b[0;34m\u001b[0m\u001b[0;34m\u001b[0m\u001b[0m\n",
      "\u001b[0;32m/usr/local/lib/python3.6/dist-packages/dcase_util/files/remote.py\u001b[0m in \u001b[0;36mdownload\u001b[0;34m(self)\u001b[0m\n\u001b[1;32m    483\u001b[0m                         )\n\u001b[1;32m    484\u001b[0m                         \u001b[0mself\u001b[0m\u001b[0;34m.\u001b[0m\u001b[0mlogger\u001b[0m\u001b[0;34m.\u001b[0m\u001b[0mexception\u001b[0m\u001b[0;34m(\u001b[0m\u001b[0mmessage\u001b[0m\u001b[0;34m)\u001b[0m\u001b[0;34m\u001b[0m\u001b[0;34m\u001b[0m\u001b[0m\n\u001b[0;32m--> 485\u001b[0;31m                         \u001b[0;32mraise\u001b[0m \u001b[0mIOError\u001b[0m\u001b[0;34m(\u001b[0m\u001b[0mmessage\u001b[0m\u001b[0;34m)\u001b[0m\u001b[0;34m\u001b[0m\u001b[0;34m\u001b[0m\u001b[0m\n\u001b[0m\u001b[1;32m    486\u001b[0m \u001b[0;34m\u001b[0m\u001b[0m\n\u001b[1;32m    487\u001b[0m                 \u001b[0;32mif\u001b[0m \u001b[0mfile_valid\u001b[0m\u001b[0;34m:\u001b[0m\u001b[0;34m\u001b[0m\u001b[0;34m\u001b[0m\u001b[0m\n",
      "\u001b[0;31mOSError\u001b[0m: RemoteFile: Download failed [https://zenodo.org/record/1964758/files/DCASE2018-task5-eval.doc.zip] [md5 mismatch]"
     ]
    }
   ],
   "source": [
    "# download the zip files\n",
    "dataset_eval.download_packages()"
   ]
  },
  {
   "cell_type": "code",
   "execution_count": null,
   "metadata": {},
   "outputs": [],
   "source": [
    "# extract the zip files\n",
    "dataset_eval.extract_packages()"
   ]
  }
 ],
 "metadata": {
  "kernelspec": {
   "display_name": "Python 3",
   "language": "python",
   "name": "python3"
  },
  "language_info": {
   "codemirror_mode": {
    "name": "ipython",
    "version": 3
   },
   "file_extension": ".py",
   "mimetype": "text/x-python",
   "name": "python",
   "nbconvert_exporter": "python",
   "pygments_lexer": "ipython3",
   "version": "3.6.7"
  }
 },
 "nbformat": 4,
 "nbformat_minor": 4
}
